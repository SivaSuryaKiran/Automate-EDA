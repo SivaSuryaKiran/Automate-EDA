{
 "cells": [
  {
   "cell_type": "markdown",
   "id": "5ee4f4d9",
   "metadata": {},
   "source": [
    "# Automate EDA with Sweetviz"
   ]
  },
  {
   "cell_type": "code",
   "execution_count": 5,
   "id": "90a5b490",
   "metadata": {},
   "outputs": [],
   "source": [
    "import pandas as pd\n",
    "import sweetviz as sv"
   ]
  },
  {
   "cell_type": "code",
   "execution_count": 6,
   "id": "d2b2d5b7",
   "metadata": {},
   "outputs": [],
   "source": [
    "data = pd.read_csv(r\"C:\\Users\\P nageswararao\\OneDrive\\Desktop\\AgentLogingReport.csv\")"
   ]
  },
  {
   "cell_type": "code",
   "execution_count": 9,
   "id": "04c109c5",
   "metadata": {},
   "outputs": [
    {
     "data": {
      "application/vnd.jupyter.widget-view+json": {
       "model_id": "e7a71b86e2e7449ca6cb8c71bb3ab978",
       "version_major": 2,
       "version_minor": 0
      },
      "text/plain": [
       "                                             |                                             | [  0%]   00:00 ->…"
      ]
     },
     "metadata": {},
     "output_type": "display_data"
    }
   ],
   "source": [
    "sweet = sv.analyze(data)"
   ]
  },
  {
   "cell_type": "code",
   "execution_count": 10,
   "id": "00b3e302",
   "metadata": {},
   "outputs": [
    {
     "name": "stdout",
     "output_type": "stream",
     "text": [
      "Report sweet_report.html was generated! NOTEBOOK/COLAB USERS: the web browser MAY not pop up, regardless, the report IS saved in your notebook/colab files.\n"
     ]
    }
   ],
   "source": [
    "sweet.show_html('sweet_report.html')"
   ]
  },
  {
   "cell_type": "markdown",
   "id": "d532d2f2",
   "metadata": {},
   "source": [
    "# Automate EDA with Pandas-Profiling"
   ]
  },
  {
   "cell_type": "code",
   "execution_count": 11,
   "id": "2e4e8284",
   "metadata": {},
   "outputs": [],
   "source": [
    "from pandas_profiling import ProfileReport"
   ]
  },
  {
   "cell_type": "code",
   "execution_count": 12,
   "id": "f269621a",
   "metadata": {},
   "outputs": [],
   "source": [
    "profile = ProfileReport(data)"
   ]
  },
  {
   "cell_type": "code",
   "execution_count": 13,
   "id": "b7f1179e",
   "metadata": {},
   "outputs": [
    {
     "data": {
      "application/vnd.jupyter.widget-view+json": {
       "model_id": "5c397787cd334cc8ba54df0c89cdfe2e",
       "version_major": 2,
       "version_minor": 0
      },
      "text/plain": [
       "Summarize dataset:   0%|          | 0/5 [00:00<?, ?it/s]"
      ]
     },
     "metadata": {},
     "output_type": "display_data"
    },
    {
     "data": {
      "application/vnd.jupyter.widget-view+json": {
       "model_id": "eac6e2d7def143d09ba9a94393982e99",
       "version_major": 2,
       "version_minor": 0
      },
      "text/plain": [
       "Generate report structure:   0%|          | 0/1 [00:00<?, ?it/s]"
      ]
     },
     "metadata": {},
     "output_type": "display_data"
    },
    {
     "data": {
      "application/vnd.jupyter.widget-view+json": {
       "model_id": "bf86e7475dad46a58a2c7eecb559e3e6",
       "version_major": 2,
       "version_minor": 0
      },
      "text/plain": [
       "Render HTML:   0%|          | 0/1 [00:00<?, ?it/s]"
      ]
     },
     "metadata": {},
     "output_type": "display_data"
    },
    {
     "data": {
      "application/vnd.jupyter.widget-view+json": {
       "model_id": "06623fe696d042d09fac55472620fe9a",
       "version_major": 2,
       "version_minor": 0
      },
      "text/plain": [
       "Export report to file:   0%|          | 0/1 [00:00<?, ?it/s]"
      ]
     },
     "metadata": {},
     "output_type": "display_data"
    }
   ],
   "source": [
    "profile.to_file(\"output.html\")"
   ]
  },
  {
   "cell_type": "markdown",
   "id": "77769902",
   "metadata": {},
   "source": [
    "# Automate EDA with Autoviz"
   ]
  },
  {
   "cell_type": "code",
   "execution_count": 19,
   "id": "5a283e1b",
   "metadata": {},
   "outputs": [],
   "source": [
    "from autoviz.AutoViz_Class import AutoViz_Class"
   ]
  },
  {
   "cell_type": "code",
   "execution_count": 24,
   "id": "e988bae2",
   "metadata": {},
   "outputs": [
    {
     "name": "stdout",
     "output_type": "stream",
     "text": [
      "Shape of your Data Set loaded: (1000, 6)\n",
      "#######################################################################################\n",
      "######################## C L A S S I F Y I N G  V A R I A B L E S  ####################\n",
      "#######################################################################################\n",
      "Classifying variables in data set...\n",
      "Data cleaning improvement suggestions. Complete them before proceeding to ML modeling.\n"
     ]
    },
    {
     "data": {
      "text/html": [
       "<style type=\"text/css\">\n",
       "#T_27b35_row0_col0, #T_27b35_row0_col4, #T_27b35_row1_col5, #T_27b35_row2_col5, #T_27b35_row3_col5, #T_27b35_row4_col5, #T_27b35_row5_col5 {\n",
       "  background-color: #67000d;\n",
       "  color: #f1f1f1;\n",
       "  font-family: Segoe UI;\n",
       "}\n",
       "#T_27b35_row0_col1, #T_27b35_row0_col6, #T_27b35_row1_col1, #T_27b35_row1_col6, #T_27b35_row2_col1, #T_27b35_row2_col6, #T_27b35_row3_col1, #T_27b35_row3_col6, #T_27b35_row4_col1, #T_27b35_row4_col6, #T_27b35_row5_col1, #T_27b35_row5_col6 {\n",
       "  font-family: Segoe UI;\n",
       "}\n",
       "#T_27b35_row0_col2, #T_27b35_row0_col3, #T_27b35_row0_col5, #T_27b35_row1_col2, #T_27b35_row1_col3, #T_27b35_row2_col2, #T_27b35_row2_col3, #T_27b35_row3_col2, #T_27b35_row3_col3, #T_27b35_row4_col2, #T_27b35_row4_col3, #T_27b35_row5_col0, #T_27b35_row5_col2, #T_27b35_row5_col3, #T_27b35_row5_col4 {\n",
       "  background-color: #fff5f0;\n",
       "  color: #000000;\n",
       "  font-family: Segoe UI;\n",
       "}\n",
       "#T_27b35_row1_col0, #T_27b35_row1_col4 {\n",
       "  background-color: #6f020e;\n",
       "  color: #f1f1f1;\n",
       "  font-family: Segoe UI;\n",
       "}\n",
       "#T_27b35_row2_col0, #T_27b35_row2_col4 {\n",
       "  background-color: #7c0510;\n",
       "  color: #f1f1f1;\n",
       "  font-family: Segoe UI;\n",
       "}\n",
       "#T_27b35_row3_col0, #T_27b35_row3_col4 {\n",
       "  background-color: #d21f20;\n",
       "  color: #f1f1f1;\n",
       "  font-family: Segoe UI;\n",
       "}\n",
       "#T_27b35_row4_col0, #T_27b35_row4_col4 {\n",
       "  background-color: #ffefe8;\n",
       "  color: #000000;\n",
       "  font-family: Segoe UI;\n",
       "}\n",
       "</style>\n",
       "<table id=\"T_27b35_\">\n",
       "  <thead>\n",
       "    <tr>\n",
       "      <th class=\"blank level0\" >&nbsp;</th>\n",
       "      <th class=\"col_heading level0 col0\" >Nuniques</th>\n",
       "      <th class=\"col_heading level0 col1\" >dtype</th>\n",
       "      <th class=\"col_heading level0 col2\" >Nulls</th>\n",
       "      <th class=\"col_heading level0 col3\" >Nullpercent</th>\n",
       "      <th class=\"col_heading level0 col4\" >NuniquePercent</th>\n",
       "      <th class=\"col_heading level0 col5\" >Value counts Min</th>\n",
       "      <th class=\"col_heading level0 col6\" >Data cleaning improvement suggestions</th>\n",
       "    </tr>\n",
       "  </thead>\n",
       "  <tbody>\n",
       "    <tr>\n",
       "      <th id=\"T_27b35_level0_row0\" class=\"row_heading level0 row0\" >SL No</th>\n",
       "      <td id=\"T_27b35_row0_col0\" class=\"data row0 col0\" >1000</td>\n",
       "      <td id=\"T_27b35_row0_col1\" class=\"data row0 col1\" >int64</td>\n",
       "      <td id=\"T_27b35_row0_col2\" class=\"data row0 col2\" >0</td>\n",
       "      <td id=\"T_27b35_row0_col3\" class=\"data row0 col3\" >0.000000</td>\n",
       "      <td id=\"T_27b35_row0_col4\" class=\"data row0 col4\" >100.000000</td>\n",
       "      <td id=\"T_27b35_row0_col5\" class=\"data row0 col5\" >0</td>\n",
       "      <td id=\"T_27b35_row0_col6\" class=\"data row0 col6\" >possible ID column: drop</td>\n",
       "    </tr>\n",
       "    <tr>\n",
       "      <th id=\"T_27b35_level0_row1\" class=\"row_heading level0 row1\" >Logout Time</th>\n",
       "      <td id=\"T_27b35_row1_col0\" class=\"data row1 col0\" >983</td>\n",
       "      <td id=\"T_27b35_row1_col1\" class=\"data row1 col1\" >object</td>\n",
       "      <td id=\"T_27b35_row1_col2\" class=\"data row1 col2\" >0</td>\n",
       "      <td id=\"T_27b35_row1_col3\" class=\"data row1 col3\" >0.000000</td>\n",
       "      <td id=\"T_27b35_row1_col4\" class=\"data row1 col4\" >98.300000</td>\n",
       "      <td id=\"T_27b35_row1_col5\" class=\"data row1 col5\" >1</td>\n",
       "      <td id=\"T_27b35_row1_col6\" class=\"data row1 col6\" >combine rare categories</td>\n",
       "    </tr>\n",
       "    <tr>\n",
       "      <th id=\"T_27b35_level0_row2\" class=\"row_heading level0 row2\" >Login Time</th>\n",
       "      <td id=\"T_27b35_row2_col0\" class=\"data row2 col0\" >957</td>\n",
       "      <td id=\"T_27b35_row2_col1\" class=\"data row2 col1\" >object</td>\n",
       "      <td id=\"T_27b35_row2_col2\" class=\"data row2 col2\" >0</td>\n",
       "      <td id=\"T_27b35_row2_col3\" class=\"data row2 col3\" >0.000000</td>\n",
       "      <td id=\"T_27b35_row2_col4\" class=\"data row2 col4\" >95.700000</td>\n",
       "      <td id=\"T_27b35_row2_col5\" class=\"data row2 col5\" >1</td>\n",
       "      <td id=\"T_27b35_row2_col6\" class=\"data row2 col6\" >combine rare categories</td>\n",
       "    </tr>\n",
       "    <tr>\n",
       "      <th id=\"T_27b35_level0_row3\" class=\"row_heading level0 row3\" >Duration</th>\n",
       "      <td id=\"T_27b35_row3_col0\" class=\"data row3 col0\" >727</td>\n",
       "      <td id=\"T_27b35_row3_col1\" class=\"data row3 col1\" >object</td>\n",
       "      <td id=\"T_27b35_row3_col2\" class=\"data row3 col2\" >0</td>\n",
       "      <td id=\"T_27b35_row3_col3\" class=\"data row3 col3\" >0.000000</td>\n",
       "      <td id=\"T_27b35_row3_col4\" class=\"data row3 col4\" >72.700000</td>\n",
       "      <td id=\"T_27b35_row3_col5\" class=\"data row3 col5\" >1</td>\n",
       "      <td id=\"T_27b35_row3_col6\" class=\"data row3 col6\" >combine rare categories</td>\n",
       "    </tr>\n",
       "    <tr>\n",
       "      <th id=\"T_27b35_level0_row4\" class=\"row_heading level0 row4\" >Agent</th>\n",
       "      <td id=\"T_27b35_row4_col0\" class=\"data row4 col0\" >49</td>\n",
       "      <td id=\"T_27b35_row4_col1\" class=\"data row4 col1\" >object</td>\n",
       "      <td id=\"T_27b35_row4_col2\" class=\"data row4 col2\" >0</td>\n",
       "      <td id=\"T_27b35_row4_col3\" class=\"data row4 col3\" >0.000000</td>\n",
       "      <td id=\"T_27b35_row4_col4\" class=\"data row4 col4\" >4.900000</td>\n",
       "      <td id=\"T_27b35_row4_col5\" class=\"data row4 col5\" >1</td>\n",
       "      <td id=\"T_27b35_row4_col6\" class=\"data row4 col6\" >combine rare categories</td>\n",
       "    </tr>\n",
       "    <tr>\n",
       "      <th id=\"T_27b35_level0_row5\" class=\"row_heading level0 row5\" >Date</th>\n",
       "      <td id=\"T_27b35_row5_col0\" class=\"data row5 col0\" >12</td>\n",
       "      <td id=\"T_27b35_row5_col1\" class=\"data row5 col1\" >object</td>\n",
       "      <td id=\"T_27b35_row5_col2\" class=\"data row5 col2\" >0</td>\n",
       "      <td id=\"T_27b35_row5_col3\" class=\"data row5 col3\" >0.000000</td>\n",
       "      <td id=\"T_27b35_row5_col4\" class=\"data row5 col4\" >1.200000</td>\n",
       "      <td id=\"T_27b35_row5_col5\" class=\"data row5 col5\" >1</td>\n",
       "      <td id=\"T_27b35_row5_col6\" class=\"data row5 col6\" ></td>\n",
       "    </tr>\n",
       "  </tbody>\n",
       "</table>\n"
      ],
      "text/plain": [
       "<pandas.io.formats.style.Styler at 0x20f2f15d730>"
      ]
     },
     "metadata": {},
     "output_type": "display_data"
    },
    {
     "name": "stdout",
     "output_type": "stream",
     "text": [
      "    6 Predictors classified...\n",
      "Cannot visualize this dataset since no numeric or integer vars in data...returning\n",
      "Not able to read or load file. Please check your inputs and try again...\n"
     ]
    }
   ],
   "source": [
    "autoviz = AutoViz_Class().AutoViz(r'C:\\Users\\P nageswararao\\OneDrive\\Desktop\\AgentLogingReport.csv')"
   ]
  },
  {
   "cell_type": "markdown",
   "id": "3c851717",
   "metadata": {},
   "source": [
    "# Automate EDA with dtale"
   ]
  },
  {
   "cell_type": "code",
   "execution_count": 26,
   "id": "9c911950",
   "metadata": {},
   "outputs": [],
   "source": [
    "import dtale"
   ]
  },
  {
   "cell_type": "code",
   "execution_count": 27,
   "id": "d2dd7f9e",
   "metadata": {},
   "outputs": [
    {
     "data": {
      "text/html": [
       "\n",
       "        <iframe\n",
       "            width=\"100%\"\n",
       "            height=\"475\"\n",
       "            src=\"http://LAPTOP-QRQVR4UC:40000/dtale/iframe/1\"\n",
       "            frameborder=\"0\"\n",
       "            allowfullscreen\n",
       "            \n",
       "        ></iframe>\n",
       "        "
      ],
      "text/plain": [
       "<IPython.lib.display.IFrame at 0x20f31c50e50>"
      ]
     },
     "metadata": {},
     "output_type": "display_data"
    },
    {
     "data": {
      "text/plain": []
     },
     "execution_count": 27,
     "metadata": {},
     "output_type": "execute_result"
    }
   ],
   "source": [
    "dtale.show(data)"
   ]
  }
 ],
 "metadata": {
  "kernelspec": {
   "display_name": "Python 3 (ipykernel)",
   "language": "python",
   "name": "python3"
  },
  "language_info": {
   "codemirror_mode": {
    "name": "ipython",
    "version": 3
   },
   "file_extension": ".py",
   "mimetype": "text/x-python",
   "name": "python",
   "nbconvert_exporter": "python",
   "pygments_lexer": "ipython3",
   "version": "3.9.7"
  }
 },
 "nbformat": 4,
 "nbformat_minor": 5
}
